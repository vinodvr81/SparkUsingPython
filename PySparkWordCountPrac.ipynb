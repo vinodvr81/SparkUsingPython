{
 "cells": [
  {
   "cell_type": "markdown",
   "metadata": {},
   "source": [
    "### Creating a base RDD and Pair RDDs"
   ]
  },
  {
   "cell_type": "markdown",
   "metadata": {},
   "source": [
    "#### [1]Create a base RDD"
   ]
  },
  {
   "cell_type": "code",
   "execution_count": 2,
   "metadata": {},
   "outputs": [
    {
     "name": "stdout",
     "output_type": "stream",
     "text": [
      "<class 'pyspark.rdd.RDD'>\n"
     ]
    }
   ],
   "source": [
    "from pyspark import SparkConf,SparkContext\n",
    "sc = SparkContext(conf=SparkConf().setAppName(\"MyApp\").setMaster(\"local\"))\n",
    "pyList = ['hello','Hi','fine','well','ok']\n",
    "wordRDD = sc.parallelize(pyList,4)\n",
    "print(type(wordRDD))"
   ]
  },
  {
   "cell_type": "code",
   "execution_count": 3,
   "metadata": {},
   "outputs": [],
   "source": [
    "def salutation(word):\n",
    "    return word + \" \" +\"Vinod Vukkalam\""
   ]
  },
  {
   "cell_type": "code",
   "execution_count": 4,
   "metadata": {},
   "outputs": [
    {
     "name": "stdout",
     "output_type": "stream",
     "text": [
      "['hello Vinod Vukkalam', 'Hi Vinod Vukkalam', 'fine Vinod Vukkalam', 'well Vinod Vukkalam', 'ok Vinod Vukkalam']\n"
     ]
    }
   ],
   "source": [
    "salutationRDD = wordRDD.map(salutation)\n",
    "print(salutationRDD.collect())"
   ]
  },
  {
   "cell_type": "code",
   "execution_count": 5,
   "metadata": {},
   "outputs": [
    {
     "name": "stdout",
     "output_type": "stream",
     "text": [
      "[20, 17, 19, 19, 17]\n"
     ]
    }
   ],
   "source": [
    "salutationLengthRDD = (salutationRDD.map(lambda x:len(x))).collect()\n",
    "print(salutationLengthRDD)"
   ]
  },
  {
   "cell_type": "markdown",
   "metadata": {},
   "source": [
    "#### [2]. Pair RDDs"
   ]
  },
  {
   "cell_type": "markdown",
   "metadata": {},
   "source": [
    "The next step is to create a new pair of RDD called pair RDD. A pair RDD is one which has an element in a pair tuple (k,v) ie key value pair"
   ]
  },
  {
   "cell_type": "code",
   "execution_count": 6,
   "metadata": {},
   "outputs": [
    {
     "name": "stdout",
     "output_type": "stream",
     "text": [
      "[('hello', 1), ('Hi', 1), ('fine', 1), ('well', 1), ('ok', 1)]\n"
     ]
    }
   ],
   "source": [
    "wordPairRDD = wordRDD.map(lambda x:(x,1))\n",
    "print(wordPairRDD.collect())"
   ]
  },
  {
   "cell_type": "code",
   "execution_count": 7,
   "metadata": {},
   "outputs": [
    {
     "name": "stdout",
     "output_type": "stream",
     "text": [
      "<class 'pyspark.rdd.RDD'>\n"
     ]
    }
   ],
   "source": [
    "newList = ['cat','cat','cat','Dog','Dog','Dog','Dog','Dog','Rat','Rat']\n",
    "newListRDD = sc.parallelize(newList)\n",
    "print(type(newListRDD))"
   ]
  },
  {
   "cell_type": "code",
   "execution_count": 8,
   "metadata": {},
   "outputs": [
    {
     "name": "stdout",
     "output_type": "stream",
     "text": [
      "[('cat', 1), ('cat', 1), ('cat', 1), ('Dog', 1), ('Dog', 1), ('Dog', 1), ('Dog', 1), ('Dog', 1), ('Rat', 1), ('Rat', 1)]\n"
     ]
    }
   ],
   "source": [
    "newWordPairRDD = newListRDD.map(lambda x:(x,1))\n",
    "print(newWordPairRDD.collect())"
   ]
  },
  {
   "cell_type": "markdown",
   "metadata": {},
   "source": [
    "### Part 2: Counting with pair RDDs"
   ]
  },
  {
   "cell_type": "markdown",
   "metadata": {},
   "source": [
    "#### Group By Key Approach"
   ]
  },
  {
   "cell_type": "code",
   "execution_count": 12,
   "metadata": {},
   "outputs": [],
   "source": [
    "wordGroupedByKeyRDD = newWordPairRDD.groupByKey()\n"
   ]
  },
  {
   "cell_type": "code",
   "execution_count": 13,
   "metadata": {},
   "outputs": [
    {
     "name": "stdout",
     "output_type": "stream",
     "text": [
      "cat : [1, 1, 1]\n",
      "Dog : [1, 1, 1, 1, 1]\n",
      "Rat : [1, 1]\n"
     ]
    }
   ],
   "source": [
    "for key,value in wordGroupedByKeyRDD.collect():\n",
    "    print(\"{0} : {1}\".format(key,list(value)))"
   ]
  },
  {
   "cell_type": "code",
   "execution_count": 14,
   "metadata": {},
   "outputs": [
    {
     "name": "stdout",
     "output_type": "stream",
     "text": [
      "cat : 3\n",
      "Dog : 5\n",
      "Rat : 2\n"
     ]
    }
   ],
   "source": [
    "for key,value in wordGroupedByKeyRDD.collect():\n",
    "    print(\"{0} : {1}\".format(key,sum(value)))"
   ]
  },
  {
   "cell_type": "code",
   "execution_count": 15,
   "metadata": {},
   "outputs": [
    {
     "name": "stdout",
     "output_type": "stream",
     "text": [
      "Writing helloword.txt\n"
     ]
    }
   ],
   "source": [
    "%%writefile helloword.txt\n",
    "How are you\n",
    "Where are you\n",
    "What are you doing\n",
    "How good do you think you are "
   ]
  },
  {
   "cell_type": "code",
   "execution_count": 16,
   "metadata": {},
   "outputs": [],
   "source": [
    "text_file = sc.textFile(\"helloword.txt\")"
   ]
  },
  {
   "cell_type": "code",
   "execution_count": 17,
   "metadata": {},
   "outputs": [],
   "source": [
    "counts = text_file.map(lambda x:(x,1)).groupByKey()"
   ]
  },
  {
   "cell_type": "code",
   "execution_count": 18,
   "metadata": {},
   "outputs": [
    {
     "name": "stdout",
     "output_type": "stream",
     "text": [
      "How are you : 1\n",
      "Where are you : 1\n",
      "What are you doing : 1\n",
      "How good do you think you are  : 1\n"
     ]
    }
   ],
   "source": [
    "for key,value in counts.collect():\n",
    "    print(\"{0} : {1}\".format(key,sum(value)))"
   ]
  },
  {
   "cell_type": "markdown",
   "metadata": {},
   "source": [
    "### Word Count Program"
   ]
  },
  {
   "cell_type": "code",
   "execution_count": 19,
   "metadata": {},
   "outputs": [],
   "source": [
    "textfile = sc.textFile(\"helloword.txt\")"
   ]
  },
  {
   "cell_type": "code",
   "execution_count": 21,
   "metadata": {},
   "outputs": [],
   "source": [
    "counts = textfile.flatMap(lambda line:line.split(\" \")).map(lambda x:(x,1)).groupByKey()"
   ]
  },
  {
   "cell_type": "code",
   "execution_count": 22,
   "metadata": {},
   "outputs": [
    {
     "name": "stdout",
     "output_type": "stream",
     "text": [
      "How : 2\n",
      "are : 4\n",
      "you : 5\n",
      "Where : 1\n",
      "What : 1\n",
      "doing : 1\n",
      "good : 1\n",
      "do : 1\n",
      "think : 1\n",
      " : 1\n"
     ]
    }
   ],
   "source": [
    "for key,value in counts.collect():\n",
    "    print(\"{0} : {1}\".format(key,sum(value)))"
   ]
  },
  {
   "cell_type": "code",
   "execution_count": null,
   "metadata": {},
   "outputs": [],
   "source": []
  }
 ],
 "metadata": {
  "kernelspec": {
   "display_name": "Python 3",
   "language": "python",
   "name": "python3"
  },
  "language_info": {
   "codemirror_mode": {
    "name": "ipython",
    "version": 3
   },
   "file_extension": ".py",
   "mimetype": "text/x-python",
   "name": "python",
   "nbconvert_exporter": "python",
   "pygments_lexer": "ipython3",
   "version": "3.7.1"
  }
 },
 "nbformat": 4,
 "nbformat_minor": 2
}
