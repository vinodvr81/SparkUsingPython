{
 "cells": [
  {
   "cell_type": "code",
   "execution_count": 1,
   "metadata": {},
   "outputs": [
    {
     "name": "stdout",
     "output_type": "stream",
     "text": [
      "Overwriting textword.txt\n"
     ]
    }
   ],
   "source": [
    "%%writefile textword.txt\n",
    "How are you\n",
    "Where are you\n",
    "Waht are you doing\n",
    "You need to be courageous\n",
    "You need to explore more\n",
    "Fine for now bye bye bye"
   ]
  },
  {
   "cell_type": "code",
   "execution_count": 2,
   "metadata": {},
   "outputs": [],
   "source": [
    "from pyspark import SparkConf,SparkContext\n",
    "sc = SparkContext(conf=SparkConf().setAppName(\"MyApp\").setMaster(\"local\"))"
   ]
  },
  {
   "cell_type": "code",
   "execution_count": 3,
   "metadata": {},
   "outputs": [],
   "source": [
    "textToWord = (sc.textFile(\"textword.txt\") \n",
    "                .flatMap(lambda line:line.split(\" \"))\n",
    "                .map(lambda x:(x,1))\n",
    "                .reduceByKey(lambda x,y:x+y))\n",
    "                 "
   ]
  },
  {
   "cell_type": "markdown",
   "metadata": {},
   "source": [
    "### to calculate unique Words"
   ]
  },
  {
   "cell_type": "code",
   "execution_count": 4,
   "metadata": {},
   "outputs": [
    {
     "name": "stdout",
     "output_type": "stream",
     "text": [
      "17\n"
     ]
    }
   ],
   "source": [
    "uniqueWord = textToWord.count()\n",
    "print(uniqueWord)"
   ]
  },
  {
   "cell_type": "markdown",
   "metadata": {},
   "source": [
    "### Mean using reduce function"
   ]
  },
  {
   "cell_type": "code",
   "execution_count": 5,
   "metadata": {},
   "outputs": [
    {
     "name": "stdout",
     "output_type": "stream",
     "text": [
      "[('How', 1), ('are', 3), ('you', 3), ('Where', 1), ('Waht', 1), ('doing', 1), ('You', 2), ('need', 2), ('to', 2), ('be', 1), ('courageous', 1), ('explore', 1), ('more', 1), ('Fine', 1), ('for', 1), ('now', 1), ('bye', 3)]\n"
     ]
    }
   ],
   "source": [
    "print(textToWord.collect())"
   ]
  },
  {
   "cell_type": "code",
   "execution_count": 6,
   "metadata": {},
   "outputs": [],
   "source": [
    "totalCount = 0\n",
    "for key,value in textToWord.collect():\n",
    "    totalCount += value\n"
   ]
  },
  {
   "cell_type": "code",
   "execution_count": 7,
   "metadata": {},
   "outputs": [
    {
     "name": "stdout",
     "output_type": "stream",
     "text": [
      "26\n",
      "1.53\n"
     ]
    }
   ],
   "source": [
    "Average = totalCount/float(uniqueWord)\n",
    "print(totalCount)\n",
    "print(round(Average,2))"
   ]
  },
  {
   "cell_type": "code",
   "execution_count": null,
   "metadata": {},
   "outputs": [],
   "source": []
  }
 ],
 "metadata": {
  "kernelspec": {
   "display_name": "Python 3",
   "language": "python",
   "name": "python3"
  },
  "language_info": {
   "codemirror_mode": {
    "name": "ipython",
    "version": 3
   },
   "file_extension": ".py",
   "mimetype": "text/x-python",
   "name": "python",
   "nbconvert_exporter": "python",
   "pygments_lexer": "ipython3",
   "version": "3.7.1"
  }
 },
 "nbformat": 4,
 "nbformat_minor": 2
}
