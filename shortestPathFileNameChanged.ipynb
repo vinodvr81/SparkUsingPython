{
 "cells": [
  {
   "cell_type": "code",
   "execution_count": 1,
   "metadata": {},
   "outputs": [
    {
     "name": "stdout",
     "output_type": "stream",
     "text": [
      "12,422,53,52,107,20,23,274,34\n"
     ]
    }
   ],
   "source": [
    "from pyspark import SparkConf,SparkContext\n",
    "sc = SparkContext(conf=SparkConf().setAppName(\"MyAppnew\").setMaster(\"local\"))\n",
    "def parse_edge(s):\n",
    "    user, follower = s.split(\"\\t\")\n",
    "    return (int(user), int(follower))\n",
    "\n",
    "def path_step(item):\n",
    "    prev_v, prev_d, next_v = item[0], item[1][0], item[1][1]\n",
    "    return (next_v, prev_d + tuple([next_v]))\n",
    "\n",
    "n = 4  # number of partitions\n",
    "edges = sc.textFile(\"/data/twitter/twitter_sample_small.txt\").map(parse_edge)\n",
    "forward_edges = edges.map(lambda e: (e[1], e[0])).partitionBy(n).persist()\n",
    "\n",
    "x = 12\n",
    "z = 34\n",
    "\n",
    "paths = sc.parallelize([(x, tuple([x])) ]).partitionBy(n)\n",
    "\n",
    "d = 0\n",
    "\n",
    "while True:\n",
    "    d += 1    \n",
    "    paths = paths.join(forward_edges, n).map(path_step)\n",
    "    if paths.filter(lambda x: x[0] == z).count() > 0:\n",
    "        break     \n",
    "\n",
    "\n",
    "final_paths = paths.filter(lambda value: value[0] == z).map(lambda value: value[1])              \n",
    "\n",
    "min_path = final_paths.take(1)[0]\n",
    "\n",
    "print(','.join(map(str, min_path)))"
   ]
  },
  {
   "cell_type": "code",
   "execution_count": null,
   "metadata": {},
   "outputs": [],
   "source": []
  }
 ],
 "metadata": {
  "kernelspec": {
   "display_name": "Python 2",
   "language": "python",
   "name": "python2"
  },
  "language_info": {
   "codemirror_mode": {
    "name": "ipython",
    "version": 2
   },
   "file_extension": ".py",
   "mimetype": "text/x-python",
   "name": "python",
   "nbconvert_exporter": "python",
   "pygments_lexer": "ipython2",
   "version": "2.7.12"
  }
 },
 "nbformat": 4,
 "nbformat_minor": 2
}
