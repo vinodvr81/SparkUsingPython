{
 "cells": [
  {
   "cell_type": "code",
   "execution_count": 1,
   "metadata": {},
   "outputs": [
    {
     "name": "stdout",
     "output_type": "stream",
     "text": [
      "hello how are you\n",
      "underneath the world surface there are so many songs\n"
     ]
    }
   ],
   "source": [
    "# Removes Punctuation and converts upper case to lower\n",
    "import re\n",
    "import string\n",
    "def removePunctuationAndUseLowerCase(text):\n",
    "    line = re.compile('[%s]' % re.escape(string.punctuation))\n",
    "    return line.sub('', text).lower().strip()\n",
    "print(removePunctuationAndUseLowerCase('Hello, how are you!!!'))\n",
    "print(removePunctuationAndUseLowerCase('under_neath! the world surface there are So MAny Songs'))\n"
   ]
  },
  {
   "cell_type": "code",
   "execution_count": 2,
   "metadata": {},
   "outputs": [],
   "source": [
    "from pyspark import SparkConf,SparkContext\n",
    "sc = SparkContext(conf=SparkConf().setAppName(\"MyAPP\").setMaster(\"local\"))"
   ]
  },
  {
   "cell_type": "code",
   "execution_count": 3,
   "metadata": {},
   "outputs": [],
   "source": [
    "filename = \"shakesphere.txt\""
   ]
  },
  {
   "cell_type": "code",
   "execution_count": 4,
   "metadata": {},
   "outputs": [],
   "source": [
    "# displays only first 15 most used words by takeOrdered function\n",
    "shakesphereRDD = (sc.textFile(filename)\n",
    "                 .map(removePunctuationAndUseLowerCase))"
   ]
  },
  {
   "cell_type": "code",
   "execution_count": 5,
   "metadata": {},
   "outputs": [],
   "source": [
    "intermed = shakesphereRDD.flatMap(lambda line:line.rstrip().split(\" \"))\n"
   ]
  },
  {
   "cell_type": "code",
   "execution_count": 6,
   "metadata": {},
   "outputs": [],
   "source": [
    "intermedTwo =intermed.map(lambda x:(x,1))\n",
    "                "
   ]
  },
  {
   "cell_type": "code",
   "execution_count": 7,
   "metadata": {},
   "outputs": [],
   "source": [
    " intermedthree = intermedTwo.reduceByKey(lambda x,y:x+y)                 "
   ]
  },
  {
   "cell_type": "code",
   "execution_count": 8,
   "metadata": {},
   "outputs": [],
   "source": [
    "top15Words = intermedthree.takeOrdered(15,key=lambda(key,value):-value)"
   ]
  },
  {
   "cell_type": "code",
   "execution_count": 9,
   "metadata": {},
   "outputs": [
    {
     "name": "stdout",
     "output_type": "stream",
     "text": [
      ": 50416\n",
      "the: 30083\n",
      "and: 28362\n",
      "i: 21728\n",
      "to: 20895\n",
      "of: 18801\n",
      "a: 16054\n",
      "you: 14416\n",
      "my: 13180\n",
      "in: 12122\n",
      "that: 11773\n",
      "is: 9700\n",
      "not: 9058\n",
      "with: 8518\n",
      "me: 8249\n"
     ]
    }
   ],
   "source": [
    "print('\\n'.join(map(lambda (word,count):'{0}: {1}'.format(word,count),top15Words)))"
   ]
  },
  {
   "cell_type": "code",
   "execution_count": null,
   "metadata": {},
   "outputs": [],
   "source": []
  }
 ],
 "metadata": {
  "kernelspec": {
   "display_name": "Python 2",
   "language": "python",
   "name": "python2"
  },
  "language_info": {
   "codemirror_mode": {
    "name": "ipython",
    "version": 2
   },
   "file_extension": ".py",
   "mimetype": "text/x-python",
   "name": "python",
   "nbconvert_exporter": "python",
   "pygments_lexer": "ipython2",
   "version": "2.7.12"
  }
 },
 "nbformat": 4,
 "nbformat_minor": 2
}
