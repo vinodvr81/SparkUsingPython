{
 "cells": [
  {
   "cell_type": "code",
   "execution_count": 1,
   "metadata": {},
   "outputs": [
    {
     "name": "stdout",
     "output_type": "stream",
     "text": [
      "Populating the interactive namespace from numpy and matplotlib\n"
     ]
    }
   ],
   "source": [
    "import pandas as pd\n",
    "import numpy as np\n",
    "\n",
    "%pylab inline"
   ]
  },
  {
   "cell_type": "markdown",
   "metadata": {},
   "source": [
    "How many taxi trips are reported in the original file?"
   ]
  },
  {
   "cell_type": "code",
   "execution_count": 2,
   "metadata": {},
   "outputs": [
    {
     "data": {
      "text/html": [
       "<div>\n",
       "<table border=\"1\" class=\"dataframe\">\n",
       "  <thead>\n",
       "    <tr style=\"text-align: right;\">\n",
       "      <th></th>\n",
       "      <th>VendorID</th>\n",
       "      <th>tpep_pickup_datetime</th>\n",
       "      <th>tpep_dropoff_datetime</th>\n",
       "      <th>passenger_count</th>\n",
       "      <th>trip_distance</th>\n",
       "      <th>RatecodeID</th>\n",
       "      <th>store_and_fwd_flag</th>\n",
       "      <th>PULocationID</th>\n",
       "      <th>DOLocationID</th>\n",
       "      <th>payment_type</th>\n",
       "      <th>fare_amount</th>\n",
       "      <th>extra</th>\n",
       "      <th>mta_tax</th>\n",
       "      <th>tip_amount</th>\n",
       "      <th>tolls_amount</th>\n",
       "      <th>improvement_surcharge</th>\n",
       "      <th>total_amount</th>\n",
       "    </tr>\n",
       "  </thead>\n",
       "  <tbody>\n",
       "    <tr>\n",
       "      <th>0</th>\n",
       "      <td>2</td>\n",
       "      <td>2016-12-15 12:18:37</td>\n",
       "      <td>2016-12-15 12:28:45</td>\n",
       "      <td>6</td>\n",
       "      <td>0.50</td>\n",
       "      <td>1</td>\n",
       "      <td>N</td>\n",
       "      <td>141</td>\n",
       "      <td>237</td>\n",
       "      <td>2</td>\n",
       "      <td>7.5</td>\n",
       "      <td>0.0</td>\n",
       "      <td>0.5</td>\n",
       "      <td>0.00</td>\n",
       "      <td>0.00</td>\n",
       "      <td>0.3</td>\n",
       "      <td>8.30</td>\n",
       "    </tr>\n",
       "    <tr>\n",
       "      <th>1</th>\n",
       "      <td>1</td>\n",
       "      <td>2016-12-20 22:39:23</td>\n",
       "      <td>2016-12-20 22:50:27</td>\n",
       "      <td>1</td>\n",
       "      <td>2.00</td>\n",
       "      <td>1</td>\n",
       "      <td>N</td>\n",
       "      <td>246</td>\n",
       "      <td>164</td>\n",
       "      <td>1</td>\n",
       "      <td>9.5</td>\n",
       "      <td>0.5</td>\n",
       "      <td>0.5</td>\n",
       "      <td>3.00</td>\n",
       "      <td>0.00</td>\n",
       "      <td>0.3</td>\n",
       "      <td>13.80</td>\n",
       "    </tr>\n",
       "    <tr>\n",
       "      <th>2</th>\n",
       "      <td>1</td>\n",
       "      <td>2016-12-09 23:02:06</td>\n",
       "      <td>2016-12-09 23:11:03</td>\n",
       "      <td>1</td>\n",
       "      <td>1.10</td>\n",
       "      <td>1</td>\n",
       "      <td>N</td>\n",
       "      <td>114</td>\n",
       "      <td>79</td>\n",
       "      <td>1</td>\n",
       "      <td>7.5</td>\n",
       "      <td>0.5</td>\n",
       "      <td>0.5</td>\n",
       "      <td>1.75</td>\n",
       "      <td>0.00</td>\n",
       "      <td>0.3</td>\n",
       "      <td>10.55</td>\n",
       "    </tr>\n",
       "    <tr>\n",
       "      <th>3</th>\n",
       "      <td>1</td>\n",
       "      <td>2016-12-11 15:40:19</td>\n",
       "      <td>2016-12-11 16:09:53</td>\n",
       "      <td>1</td>\n",
       "      <td>11.90</td>\n",
       "      <td>1</td>\n",
       "      <td>N</td>\n",
       "      <td>138</td>\n",
       "      <td>224</td>\n",
       "      <td>1</td>\n",
       "      <td>34.0</td>\n",
       "      <td>0.0</td>\n",
       "      <td>0.5</td>\n",
       "      <td>8.05</td>\n",
       "      <td>5.54</td>\n",
       "      <td>0.3</td>\n",
       "      <td>48.39</td>\n",
       "    </tr>\n",
       "    <tr>\n",
       "      <th>4</th>\n",
       "      <td>2</td>\n",
       "      <td>2016-12-19 11:34:28</td>\n",
       "      <td>2016-12-19 11:47:51</td>\n",
       "      <td>1</td>\n",
       "      <td>1.96</td>\n",
       "      <td>1</td>\n",
       "      <td>N</td>\n",
       "      <td>261</td>\n",
       "      <td>144</td>\n",
       "      <td>2</td>\n",
       "      <td>10.5</td>\n",
       "      <td>0.0</td>\n",
       "      <td>0.5</td>\n",
       "      <td>0.00</td>\n",
       "      <td>0.00</td>\n",
       "      <td>0.3</td>\n",
       "      <td>11.30</td>\n",
       "    </tr>\n",
       "  </tbody>\n",
       "</table>\n",
       "</div>"
      ],
      "text/plain": [
       "   VendorID tpep_pickup_datetime tpep_dropoff_datetime  passenger_count  \\\n",
       "0         2  2016-12-15 12:18:37   2016-12-15 12:28:45                6   \n",
       "1         1  2016-12-20 22:39:23   2016-12-20 22:50:27                1   \n",
       "2         1  2016-12-09 23:02:06   2016-12-09 23:11:03                1   \n",
       "3         1  2016-12-11 15:40:19   2016-12-11 16:09:53                1   \n",
       "4         2  2016-12-19 11:34:28   2016-12-19 11:47:51                1   \n",
       "\n",
       "   trip_distance  RatecodeID store_and_fwd_flag  PULocationID  DOLocationID  \\\n",
       "0           0.50           1                  N           141           237   \n",
       "1           2.00           1                  N           246           164   \n",
       "2           1.10           1                  N           114            79   \n",
       "3          11.90           1                  N           138           224   \n",
       "4           1.96           1                  N           261           144   \n",
       "\n",
       "   payment_type  fare_amount  extra  mta_tax  tip_amount  tolls_amount  \\\n",
       "0             2          7.5    0.0      0.5        0.00          0.00   \n",
       "1             1          9.5    0.5      0.5        3.00          0.00   \n",
       "2             1          7.5    0.5      0.5        1.75          0.00   \n",
       "3             1         34.0    0.0      0.5        8.05          5.54   \n",
       "4             2         10.5    0.0      0.5        0.00          0.00   \n",
       "\n",
       "   improvement_surcharge  total_amount  \n",
       "0                    0.3          8.30  \n",
       "1                    0.3         13.80  \n",
       "2                    0.3         10.55  \n",
       "3                    0.3         48.39  \n",
       "4                    0.3         11.30  "
      ]
     },
     "execution_count": 2,
     "metadata": {},
     "output_type": "execute_result"
    }
   ],
   "source": [
    "sample100 = pd.read_csv('sample100.csv', parse_dates=[1,2])\n",
    "sample100.head()"
   ]
  },
  {
   "cell_type": "markdown",
   "metadata": {},
   "source": [
    "## Estimating the proportion of tippers"
   ]
  },
  {
   "cell_type": "code",
   "execution_count": 3,
   "metadata": {},
   "outputs": [
    {
     "data": {
      "text/plain": [
       "0.66000000000000003"
      ]
     },
     "execution_count": 3,
     "metadata": {},
     "output_type": "execute_result"
    }
   ],
   "source": [
    "is_tipped = sample100.tip_amount>0\n",
    "is_tipped.mean()"
   ]
  },
  {
   "cell_type": "markdown",
   "metadata": {},
   "source": [
    "Standard deviation:"
   ]
  },
  {
   "cell_type": "code",
   "execution_count": 4,
   "metadata": {},
   "outputs": [
    {
     "data": {
      "text/plain": [
       "0.047370877129308042"
      ]
     },
     "execution_count": 4,
     "metadata": {},
     "output_type": "execute_result"
    }
   ],
   "source": [
    "ph = is_tipped.mean()\n",
    "s = np.sqrt(ph * (1-ph) / len(is_tipped))\n",
    "s"
   ]
  },
  {
   "cell_type": "markdown",
   "metadata": {},
   "source": [
    "95% confidence interval:"
   ]
  },
  {
   "cell_type": "code",
   "execution_count": 5,
   "metadata": {},
   "outputs": [
    {
     "data": {
      "text/plain": [
       "(0.56715478691048404, 0.75284521308951602)"
      ]
     },
     "execution_count": 5,
     "metadata": {},
     "output_type": "execute_result"
    }
   ],
   "source": [
    "from statsmodels.stats.proportion import proportion_confint\n",
    "proportion_confint(sum(is_tipped), len(is_tipped), alpha=0.05)"
   ]
  },
  {
   "cell_type": "markdown",
   "metadata": {},
   "source": [
    "Pretty wide! How big do we need a sample for the 95% confidence interval to be approximately 2% wide?"
   ]
  },
  {
   "cell_type": "code",
   "execution_count": 6,
   "metadata": {},
   "outputs": [
    {
     "data": {
      "text/plain": [
       "8621"
      ]
     },
     "execution_count": 6,
     "metadata": {},
     "output_type": "execute_result"
    }
   ],
   "source": [
    "from statsmodels.stats.proportion import samplesize_confint_proportion\n",
    "int(np.ceil(samplesize_confint_proportion(ph, 0.01)))"
   ]
  },
  {
   "cell_type": "markdown",
   "metadata": {},
   "source": [
    "Let's take a bigger sample:"
   ]
  },
  {
   "cell_type": "code",
   "execution_count": 7,
   "metadata": {},
   "outputs": [
    {
     "data": {
      "text/plain": [
       "0.61209999999999998"
      ]
     },
     "execution_count": 7,
     "metadata": {},
     "output_type": "execute_result"
    }
   ],
   "source": [
    "sample10000 = pd.read_csv('sample10000.csv', parse_dates=[1,2])\n",
    "is_tipped = sample10000.tip_amount>0\n",
    "is_tipped.mean()"
   ]
  },
  {
   "cell_type": "code",
   "execution_count": 8,
   "metadata": {},
   "outputs": [
    {
     "data": {
      "text/plain": [
       "0.0048727157725440952"
      ]
     },
     "execution_count": 8,
     "metadata": {},
     "output_type": "execute_result"
    }
   ],
   "source": [
    "ph = is_tipped.mean()\n",
    "s = np.sqrt(ph * (1-ph) / len(is_tipped))\n",
    "s"
   ]
  },
  {
   "cell_type": "code",
   "execution_count": 9,
   "metadata": {},
   "outputs": [
    {
     "data": {
      "text/plain": [
       "(0.60254965257891324, 0.62165034742108671)"
      ]
     },
     "execution_count": 9,
     "metadata": {},
     "output_type": "execute_result"
    }
   ],
   "source": [
    "proportion_confint(sum(is_tipped), len(is_tipped), alpha=0.05)"
   ]
  },
  {
   "cell_type": "markdown",
   "metadata": {},
   "source": [
    "It is indeed about 2% wide. "
   ]
  },
  {
   "cell_type": "markdown",
   "metadata": {},
   "source": [
    "## Estimating the average trip duration"
   ]
  },
  {
   "cell_type": "code",
   "execution_count": 10,
   "metadata": {
    "collapsed": true
   },
   "outputs": [],
   "source": [
    "sample100['duration'] = [x.total_seconds() / 60 for x in sample100.tpep_dropoff_datetime -  sample100.tpep_pickup_datetime]"
   ]
  },
  {
   "cell_type": "code",
   "execution_count": 11,
   "metadata": {},
   "outputs": [
    {
     "data": {
      "text/plain": [
       "14.145500000000002"
      ]
     },
     "execution_count": 11,
     "metadata": {},
     "output_type": "execute_result"
    }
   ],
   "source": [
    "sample100['duration'].mean() "
   ]
  },
  {
   "cell_type": "code",
   "execution_count": 12,
   "metadata": {},
   "outputs": [
    {
     "data": {
      "text/plain": [
       "1.2435186819673421"
      ]
     },
     "execution_count": 12,
     "metadata": {},
     "output_type": "execute_result"
    }
   ],
   "source": [
    "s = sample100['duration'].std(ddof=1) / np.sqrt(len(sample100['duration']))\n",
    "s"
   ]
  },
  {
   "cell_type": "code",
   "execution_count": 13,
   "metadata": {},
   "outputs": [
    {
     "data": {
      "text/plain": [
       "(11.678089151722666, 16.612910848277338)"
      ]
     },
     "execution_count": 13,
     "metadata": {},
     "output_type": "execute_result"
    }
   ],
   "source": [
    "from statsmodels.stats.weightstats import _tconfint_generic\n",
    "_tconfint_generic(sample100['duration'].mean(), \n",
    "                  s, \n",
    "                  len(sample100['duration']) - 1, \n",
    "                  0.05, 'two-sided')"
   ]
  },
  {
   "cell_type": "code",
   "execution_count": 14,
   "metadata": {},
   "outputs": [
    {
     "data": {
      "text/plain": [
       "array([[<matplotlib.axes._subplots.AxesSubplot object at 0x7f7c95e71940>]], dtype=object)"
      ]
     },
     "execution_count": 14,
     "metadata": {},
     "output_type": "execute_result"
    },
    {
     "data": {
      "image/png": "[encoded data removed]",
      "text/plain": [
       "<matplotlib.figure.Figure at 0x7f7cc0f3df60>"
      ]
     },
     "metadata": {},
     "output_type": "display_data"
    }
   ],
   "source": [
    "sample100.hist(column = 'duration', bins=30, normed=True)"
   ]
  },
  {
   "cell_type": "code",
   "execution_count": 15,
   "metadata": {
    "collapsed": true
   },
   "outputs": [],
   "source": [
    "sample10000['duration'] = [x.total_seconds() / 60 for x in sample10000.tpep_dropoff_datetime -  sample10000.tpep_pickup_datetime]"
   ]
  },
  {
   "cell_type": "code",
   "execution_count": 16,
   "metadata": {},
   "outputs": [
    {
     "data": {
      "text/plain": [
       "17.032653333333332"
      ]
     },
     "execution_count": 16,
     "metadata": {},
     "output_type": "execute_result"
    }
   ],
   "source": [
    "sample10000['duration'].mean()"
   ]
  },
  {
   "cell_type": "code",
   "execution_count": 17,
   "metadata": {},
   "outputs": [
    {
     "data": {
      "text/plain": [
       "0.61104871928126259"
      ]
     },
     "execution_count": 17,
     "metadata": {},
     "output_type": "execute_result"
    }
   ],
   "source": [
    "s = sample10000['duration'].std(ddof=1) / np.sqrt(len(sample10000['duration']))\n",
    "s"
   ]
  },
  {
   "cell_type": "code",
   "execution_count": 18,
   "metadata": {},
   "outputs": [
    {
     "data": {
      "text/plain": [
       "(15.834874861663989, 18.230431805002674)"
      ]
     },
     "execution_count": 18,
     "metadata": {},
     "output_type": "execute_result"
    }
   ],
   "source": [
    "_tconfint_generic(sample10000['duration'].mean(), \n",
    "                  s, \n",
    "                  len(sample10000['duration']) - 1, \n",
    "                  0.05, 'two-sided')"
   ]
  },
  {
   "cell_type": "code",
   "execution_count": 19,
   "metadata": {},
   "outputs": [
    {
     "data": {
      "text/plain": [
       "array([[<matplotlib.axes._subplots.AxesSubplot object at 0x7f7cc0f3def0>]], dtype=object)"
      ]
     },
     "execution_count": 19,
     "metadata": {},
     "output_type": "execute_result"
    },
    {
     "data": {
      "image/png": "[encoded data removed]",
      "text/plain": [
       "<matplotlib.figure.Figure at 0x7f7c9e641d68>"
      ]
     },
     "metadata": {},
     "output_type": "display_data"
    }
   ],
   "source": [
    "sample10000.hist(column = 'duration', bins=30, normed=True)"
   ]
  },
  {
   "cell_type": "code",
   "execution_count": 20,
   "metadata": {},
   "outputs": [
    {
     "data": {
      "text/plain": [
       "True     9980\n",
       "False      20\n",
       "Name: duration, dtype: int64"
      ]
     },
     "execution_count": 20,
     "metadata": {},
     "output_type": "execute_result"
    }
   ],
   "source": [
    "tmp = sample10000['duration'] < 120\n",
    "tmp.value_counts()"
   ]
  },
  {
   "cell_type": "code",
   "execution_count": 21,
   "metadata": {},
   "outputs": [
    {
     "data": {
      "text/plain": [
       "14.440375751503007"
      ]
     },
     "execution_count": 21,
     "metadata": {},
     "output_type": "execute_result"
    },
    {
     "data": {
      "image/png": "[encoded data removed]",
      "text/plain": [
       "<matplotlib.figure.Figure at 0x7f7c965174a8>"
      ]
     },
     "metadata": {},
     "output_type": "display_data"
    }
   ],
   "source": [
    "sample10000[sample10000['duration'] < 120].hist(column = 'duration', bins=30, normed=True)\n",
    "sample10000['duration'][sample10000['duration'] < 120].mean()"
   ]
  },
  {
   "cell_type": "code",
   "execution_count": 22,
   "metadata": {},
   "outputs": [
    {
     "data": {
      "text/plain": [
       "10.266666666666666"
      ]
     },
     "execution_count": 22,
     "metadata": {},
     "output_type": "execute_result"
    }
   ],
   "source": [
    "sample100['duration'].median()"
   ]
  },
  {
   "cell_type": "code",
   "execution_count": 24,
   "metadata": {},
   "outputs": [
    {
     "data": {
      "text/plain": [
       "11.233333333333333"
      ]
     },
     "execution_count": 24,
     "metadata": {},
     "output_type": "execute_result"
    }
   ],
   "source": [
    "sample10000['duration'].median()"
   ]
  },
  {
   "cell_type": "code",
   "execution_count": 25,
   "metadata": {},
   "outputs": [
    {
     "data": {
      "text/plain": [
       "11.216666666666667"
      ]
     },
     "execution_count": 25,
     "metadata": {},
     "output_type": "execute_result"
    }
   ],
   "source": [
    "sample10000['duration'][sample10000['duration'] < 120].median()"
   ]
  },
  {
   "cell_type": "markdown",
   "metadata": {},
   "source": [
    "Bootstrap:"
   ]
  },
  {
   "cell_type": "code",
   "execution_count": 26,
   "metadata": {
    "collapsed": true
   },
   "outputs": [],
   "source": [
    "def get_bootstrap_samples(data, n_samples):\n",
    "    indices = np.random.randint(0, len(data), (n_samples, len(data)))\n",
    "    samples = data[indices]\n",
    "    return samples\n",
    "    \n",
    "def stat_intervals(stat, alpha):\n",
    "    boundaries = np.percentile(stat, [100 * alpha / 2., 100 * (1 - alpha / 2.)])\n",
    "    return boundaries"
   ]
  },
  {
   "cell_type": "code",
   "execution_count": 27,
   "metadata": {},
   "outputs": [
    {
     "data": {
      "text/plain": [
       "array([  8.58333333,  11.94166667])"
      ]
     },
     "execution_count": 27,
     "metadata": {},
     "output_type": "execute_result"
    }
   ],
   "source": [
    "median_duration = list(map(np.median, get_bootstrap_samples(sample100['duration'].values, 1000)))\n",
    "stat_intervals(median_duration, 0.05)"
   ]
  },
  {
   "cell_type": "code",
   "execution_count": 28,
   "metadata": {},
   "outputs": [
    {
     "data": {
      "text/plain": [
       "array([ 11.03291667,  11.41666667])"
      ]
     },
     "execution_count": 28,
     "metadata": {},
     "output_type": "execute_result"
    }
   ],
   "source": [
    "median_duration = list(map(np.median, get_bootstrap_samples(sample10000['duration'].values, 1000)))\n",
    "stat_intervals(median_duration, 0.05)"
   ]
  },
  {
   "cell_type": "code",
   "execution_count": 29,
   "metadata": {},
   "outputs": [
    {
     "data": {
      "text/plain": [
       "['DOLocationID',\n",
       " 'PULocationID',\n",
       " 'RatecodeID',\n",
       " 'T',\n",
       " 'VendorID',\n",
       " '_AXIS_ALIASES',\n",
       " '_AXIS_IALIASES',\n",
       " '_AXIS_LEN',\n",
       " '_AXIS_NAMES',\n",
       " '_AXIS_NUMBERS',\n",
       " '_AXIS_ORDERS',\n",
       " '_AXIS_REVERSED',\n",
       " '_AXIS_SLICEMAP',\n",
       " '__abs__',\n",
       " '__add__',\n",
       " '__and__',\n",
       " '__array__',\n",
       " '__array_wrap__',\n",
       " '__bool__',\n",
       " '__bytes__',\n",
       " '__class__',\n",
       " '__contains__',\n",
       " '__delattr__',\n",
       " '__delitem__',\n",
       " '__dict__',\n",
       " '__dir__',\n",
       " '__div__',\n",
       " '__doc__',\n",
       " '__eq__',\n",
       " '__finalize__',\n",
       " '__floordiv__',\n",
       " '__format__',\n",
       " '__ge__',\n",
       " '__getattr__',\n",
       " '__getattribute__',\n",
       " '__getitem__',\n",
       " '__getstate__',\n",
       " '__gt__',\n",
       " '__hash__',\n",
       " '__iadd__',\n",
       " '__imul__',\n",
       " '__init__',\n",
       " '__init_subclass__',\n",
       " '__invert__',\n",
       " '__ipow__',\n",
       " '__isub__',\n",
       " '__iter__',\n",
       " '__itruediv__',\n",
       " '__le__',\n",
       " '__len__',\n",
       " '__lt__',\n",
       " '__mod__',\n",
       " '__module__',\n",
       " '__mul__',\n",
       " '__ne__',\n",
       " '__neg__',\n",
       " '__new__',\n",
       " '__nonzero__',\n",
       " '__or__',\n",
       " '__pow__',\n",
       " '__radd__',\n",
       " '__rand__',\n",
       " '__rdiv__',\n",
       " '__reduce__',\n",
       " '__reduce_ex__',\n",
       " '__repr__',\n",
       " '__rfloordiv__',\n",
       " '__rmod__',\n",
       " '__rmul__',\n",
       " '__ror__',\n",
       " '__round__',\n",
       " '__rpow__',\n",
       " '__rsub__',\n",
       " '__rtruediv__',\n",
       " '__rxor__',\n",
       " '__setattr__',\n",
       " '__setitem__',\n",
       " '__setstate__',\n",
       " '__sizeof__',\n",
       " '__str__',\n",
       " '__sub__',\n",
       " '__subclasshook__',\n",
       " '__truediv__',\n",
       " '__unicode__',\n",
       " '__weakref__',\n",
       " '__xor__',\n",
       " '_accessors',\n",
       " '_add_numeric_operations',\n",
       " '_add_series_only_operations',\n",
       " '_add_series_or_dataframe_operations',\n",
       " '_agg_by_level',\n",
       " '_align_frame',\n",
       " '_align_series',\n",
       " '_apply_broadcast',\n",
       " '_apply_empty_result',\n",
       " '_apply_raw',\n",
       " '_apply_standard',\n",
       " '_at',\n",
       " '_box_col_values',\n",
       " '_box_item_values',\n",
       " '_check_inplace_setting',\n",
       " '_check_is_chained_assignment_possible',\n",
       " '_check_percentile',\n",
       " '_check_setitem_copy',\n",
       " '_clear_item_cache',\n",
       " '_combine_const',\n",
       " '_combine_frame',\n",
       " '_combine_match_columns',\n",
       " '_combine_match_index',\n",
       " '_combine_series',\n",
       " '_combine_series_infer',\n",
       " '_compare_frame',\n",
       " '_compare_frame_evaluate',\n",
       " '_consolidate_inplace',\n",
       " '_construct_axes_dict',\n",
       " '_construct_axes_dict_for_slice',\n",
       " '_construct_axes_dict_from',\n",
       " '_construct_axes_from_arguments',\n",
       " '_constructor',\n",
       " '_constructor_expanddim',\n",
       " '_constructor_sliced',\n",
       " '_convert',\n",
       " '_count_level',\n",
       " '_create_indexer',\n",
       " '_dir_additions',\n",
       " '_dir_deletions',\n",
       " '_ensure_valid_index',\n",
       " '_expand_axes',\n",
       " '_flex_compare_frame',\n",
       " '_from_arrays',\n",
       " '_from_axes',\n",
       " '_get_agg_axis',\n",
       " '_get_axis',\n",
       " '_get_axis_name',\n",
       " '_get_axis_number',\n",
       " '_get_axis_resolvers',\n",
       " '_get_block_manager_axis',\n",
       " '_get_bool_data',\n",
       " '_get_cacher',\n",
       " '_get_index_resolvers',\n",
       " '_get_item_cache',\n",
       " '_get_numeric_data',\n",
       " '_get_values',\n",
       " '_getitem_array',\n",
       " '_getitem_column',\n",
       " '_getitem_frame',\n",
       " '_getitem_multilevel',\n",
       " '_getitem_slice',\n",
       " '_iat',\n",
       " '_iget_item_cache',\n",
       " '_iloc',\n",
       " '_indexed_same',\n",
       " '_info_axis',\n",
       " '_info_axis_name',\n",
       " '_info_axis_number',\n",
       " '_info_repr',\n",
       " '_init_dict',\n",
       " '_init_mgr',\n",
       " '_init_ndarray',\n",
       " '_internal_names',\n",
       " '_internal_names_set',\n",
       " '_is_cached',\n",
       " '_is_datelike_mixed_type',\n",
       " '_is_mixed_type',\n",
       " '_is_numeric_mixed_type',\n",
       " '_is_view',\n",
       " '_ix',\n",
       " '_ixs',\n",
       " '_join_compat',\n",
       " '_loc',\n",
       " '_maybe_cache_changed',\n",
       " '_maybe_update_cacher',\n",
       " '_metadata',\n",
       " '_needs_reindex_multi',\n",
       " '_protect_consolidate',\n",
       " '_reduce',\n",
       " '_reindex_axes',\n",
       " '_reindex_axis',\n",
       " '_reindex_columns',\n",
       " '_reindex_index',\n",
       " '_reindex_multi',\n",
       " '_reindex_with_indexers',\n",
       " '_repr_fits_horizontal_',\n",
       " '_repr_fits_vertical_',\n",
       " '_repr_html_',\n",
       " '_repr_latex_',\n",
       " '_reset_cache',\n",
       " '_reset_cacher',\n",
       " '_sanitize_column',\n",
       " '_series',\n",
       " '_set_as_cached',\n",
       " '_set_axis',\n",
       " '_set_axis_name',\n",
       " '_set_is_copy',\n",
       " '_set_item',\n",
       " '_setitem_array',\n",
       " '_setitem_frame',\n",
       " '_setitem_slice',\n",
       " '_setup_axes',\n",
       " '_slice',\n",
       " '_stat_axis',\n",
       " '_stat_axis_name',\n",
       " '_stat_axis_number',\n",
       " '_typ',\n",
       " '_unpickle_frame_compat',\n",
       " '_unpickle_matrix_compat',\n",
       " '_update_inplace',\n",
       " '_validate_dtype',\n",
       " '_values',\n",
       " '_where',\n",
       " '_xs',\n",
       " 'abs',\n",
       " 'add',\n",
       " 'add_prefix',\n",
       " 'add_suffix',\n",
       " 'align',\n",
       " 'all',\n",
       " 'any',\n",
       " 'append',\n",
       " 'apply',\n",
       " 'applymap',\n",
       " 'as_blocks',\n",
       " 'as_matrix',\n",
       " 'asfreq',\n",
       " 'asof',\n",
       " 'assign',\n",
       " 'astype',\n",
       " 'at',\n",
       " 'at_time',\n",
       " 'axes',\n",
       " 'between_time',\n",
       " 'bfill',\n",
       " 'blocks',\n",
       " 'bool',\n",
       " 'boxplot',\n",
       " 'clip',\n",
       " 'clip_lower',\n",
       " 'clip_upper',\n",
       " 'columns',\n",
       " 'combine',\n",
       " 'combineAdd',\n",
       " 'combineMult',\n",
       " 'combine_first',\n",
       " 'compound',\n",
       " 'consolidate',\n",
       " 'convert_objects',\n",
       " 'copy',\n",
       " 'corr',\n",
       " 'corrwith',\n",
       " 'count',\n",
       " 'cov',\n",
       " 'cummax',\n",
       " 'cummin',\n",
       " 'cumprod',\n",
       " 'cumsum',\n",
       " 'describe',\n",
       " 'diff',\n",
       " 'div',\n",
       " 'divide',\n",
       " 'dot',\n",
       " 'drop',\n",
       " 'drop_duplicates',\n",
       " 'dropna',\n",
       " 'dtypes',\n",
       " 'duplicated',\n",
       " 'duration',\n",
       " 'empty',\n",
       " 'eq',\n",
       " 'equals',\n",
       " 'eval',\n",
       " 'ewm',\n",
       " 'expanding',\n",
       " 'extra',\n",
       " 'fare_amount',\n",
       " 'ffill',\n",
       " 'fillna',\n",
       " 'filter',\n",
       " 'first',\n",
       " 'first_valid_index',\n",
       " 'floordiv',\n",
       " 'from_csv',\n",
       " 'from_dict',\n",
       " 'from_items',\n",
       " 'from_records',\n",
       " 'ftypes',\n",
       " 'ge',\n",
       " 'get',\n",
       " 'get_dtype_counts',\n",
       " 'get_ftype_counts',\n",
       " 'get_value',\n",
       " 'get_values',\n",
       " 'groupby',\n",
       " 'gt',\n",
       " 'head',\n",
       " 'hist',\n",
       " 'iat',\n",
       " 'icol',\n",
       " 'idxmax',\n",
       " 'idxmin',\n",
       " 'iget_value',\n",
       " 'iloc',\n",
       " 'improvement_surcharge',\n",
       " 'index',\n",
       " 'info',\n",
       " 'insert',\n",
       " 'interpolate',\n",
       " 'irow',\n",
       " 'is_copy',\n",
       " 'isin',\n",
       " 'isnull',\n",
       " 'items',\n",
       " 'iteritems',\n",
       " 'iterkv',\n",
       " 'iterrows',\n",
       " 'itertuples',\n",
       " 'ix',\n",
       " 'join',\n",
       " 'keys',\n",
       " 'kurt',\n",
       " 'kurtosis',\n",
       " 'last',\n",
       " 'last_valid_index',\n",
       " 'le',\n",
       " 'loc',\n",
       " 'lookup',\n",
       " 'lt',\n",
       " 'mad',\n",
       " 'mask',\n",
       " 'max',\n",
       " 'mean',\n",
       " 'median',\n",
       " 'memory_usage',\n",
       " 'merge',\n",
       " 'min',\n",
       " 'mod',\n",
       " 'mode',\n",
       " 'mta_tax',\n",
       " 'mul',\n",
       " 'multiply',\n",
       " 'ndim',\n",
       " 'ne',\n",
       " 'nlargest',\n",
       " 'notnull',\n",
       " 'nsmallest',\n",
       " 'passenger_count',\n",
       " 'payment_type',\n",
       " 'pct_change',\n",
       " 'pipe',\n",
       " 'pivot',\n",
       " 'pivot_table',\n",
       " 'plot',\n",
       " 'pop',\n",
       " 'pow',\n",
       " 'prod',\n",
       " 'product',\n",
       " 'quantile',\n",
       " 'query',\n",
       " 'radd',\n",
       " 'rank',\n",
       " 'rdiv',\n",
       " 'reindex',\n",
       " 'reindex_axis',\n",
       " 'reindex_like',\n",
       " 'rename',\n",
       " 'rename_axis',\n",
       " 'reorder_levels',\n",
       " 'replace',\n",
       " 'resample',\n",
       " 'reset_index',\n",
       " 'rfloordiv',\n",
       " 'rmod',\n",
       " 'rmul',\n",
       " 'rolling',\n",
       " 'round',\n",
       " 'rpow',\n",
       " 'rsub',\n",
       " 'rtruediv',\n",
       " 'sample',\n",
       " 'select',\n",
       " 'select_dtypes',\n",
       " 'sem',\n",
       " 'set_axis',\n",
       " 'set_index',\n",
       " 'set_value',\n",
       " 'shape',\n",
       " 'shift',\n",
       " 'size',\n",
       " 'skew',\n",
       " 'slice_shift',\n",
       " 'sort',\n",
       " 'sort_index',\n",
       " 'sort_values',\n",
       " 'sortlevel',\n",
       " 'squeeze',\n",
       " 'stack',\n",
       " 'std',\n",
       " 'store_and_fwd_flag',\n",
       " 'style',\n",
       " 'sub',\n",
       " 'subtract',\n",
       " 'sum',\n",
       " 'swapaxes',\n",
       " 'swaplevel',\n",
       " 'tail',\n",
       " 'take',\n",
       " 'tip_amount',\n",
       " 'to_clipboard',\n",
       " 'to_csv',\n",
       " 'to_dense',\n",
       " 'to_dict',\n",
       " 'to_excel',\n",
       " 'to_gbq',\n",
       " 'to_hdf',\n",
       " 'to_html',\n",
       " 'to_json',\n",
       " 'to_latex',\n",
       " 'to_msgpack',\n",
       " 'to_panel',\n",
       " 'to_period',\n",
       " 'to_pickle',\n",
       " 'to_records',\n",
       " 'to_sparse',\n",
       " 'to_sql',\n",
       " 'to_stata',\n",
       " 'to_string',\n",
       " 'to_timestamp',\n",
       " 'to_xarray',\n",
       " 'tolls_amount',\n",
       " 'total_amount',\n",
       " 'tpep_dropoff_datetime',\n",
       " 'tpep_pickup_datetime',\n",
       " 'transpose',\n",
       " 'trip_distance',\n",
       " 'truediv',\n",
       " 'truncate',\n",
       " 'tshift',\n",
       " 'tz_convert',\n",
       " 'tz_localize',\n",
       " 'unstack',\n",
       " 'update',\n",
       " 'values',\n",
       " 'var',\n",
       " 'where',\n",
       " 'xs']"
      ]
     },
     "execution_count": 29,
     "metadata": {},
     "output_type": "execute_result"
    }
   ],
   "source": [
    "dir(sample10000)"
   ]
  },
  {
   "cell_type": "code",
   "execution_count": 30,
   "metadata": {},
   "outputs": [
    {
     "data": {
      "text/html": [
       "<div>\n",
       "<table border=\"1\" class=\"dataframe\">\n",
       "  <thead>\n",
       "    <tr style=\"text-align: right;\">\n",
       "      <th></th>\n",
       "      <th>VendorID</th>\n",
       "      <th>tpep_pickup_datetime</th>\n",
       "      <th>tpep_dropoff_datetime</th>\n",
       "      <th>passenger_count</th>\n",
       "      <th>trip_distance</th>\n",
       "      <th>RatecodeID</th>\n",
       "      <th>store_and_fwd_flag</th>\n",
       "      <th>PULocationID</th>\n",
       "      <th>DOLocationID</th>\n",
       "      <th>payment_type</th>\n",
       "      <th>fare_amount</th>\n",
       "      <th>extra</th>\n",
       "      <th>mta_tax</th>\n",
       "      <th>tip_amount</th>\n",
       "      <th>tolls_amount</th>\n",
       "      <th>improvement_surcharge</th>\n",
       "      <th>total_amount</th>\n",
       "      <th>duration</th>\n",
       "    </tr>\n",
       "  </thead>\n",
       "  <tbody>\n",
       "    <tr>\n",
       "      <th>0</th>\n",
       "      <td>2</td>\n",
       "      <td>2016-12-19 20:13:04</td>\n",
       "      <td>2016-12-19 20:16:58</td>\n",
       "      <td>1</td>\n",
       "      <td>0.87</td>\n",
       "      <td>1</td>\n",
       "      <td>N</td>\n",
       "      <td>238</td>\n",
       "      <td>142</td>\n",
       "      <td>1</td>\n",
       "      <td>5.0</td>\n",
       "      <td>0.5</td>\n",
       "      <td>0.5</td>\n",
       "      <td>1.50</td>\n",
       "      <td>0.0</td>\n",
       "      <td>0.3</td>\n",
       "      <td>7.80</td>\n",
       "      <td>3.900000</td>\n",
       "    </tr>\n",
       "    <tr>\n",
       "      <th>1</th>\n",
       "      <td>1</td>\n",
       "      <td>2016-12-27 19:28:48</td>\n",
       "      <td>2016-12-27 19:30:31</td>\n",
       "      <td>1</td>\n",
       "      <td>0.10</td>\n",
       "      <td>1</td>\n",
       "      <td>N</td>\n",
       "      <td>231</td>\n",
       "      <td>144</td>\n",
       "      <td>2</td>\n",
       "      <td>3.0</td>\n",
       "      <td>1.0</td>\n",
       "      <td>0.5</td>\n",
       "      <td>0.00</td>\n",
       "      <td>0.0</td>\n",
       "      <td>0.3</td>\n",
       "      <td>4.80</td>\n",
       "      <td>1.716667</td>\n",
       "    </tr>\n",
       "    <tr>\n",
       "      <th>2</th>\n",
       "      <td>1</td>\n",
       "      <td>2016-12-17 00:57:37</td>\n",
       "      <td>2016-12-17 01:10:37</td>\n",
       "      <td>3</td>\n",
       "      <td>2.30</td>\n",
       "      <td>1</td>\n",
       "      <td>N</td>\n",
       "      <td>90</td>\n",
       "      <td>233</td>\n",
       "      <td>1</td>\n",
       "      <td>11.0</td>\n",
       "      <td>0.5</td>\n",
       "      <td>0.5</td>\n",
       "      <td>2.45</td>\n",
       "      <td>0.0</td>\n",
       "      <td>0.3</td>\n",
       "      <td>14.75</td>\n",
       "      <td>13.000000</td>\n",
       "    </tr>\n",
       "    <tr>\n",
       "      <th>3</th>\n",
       "      <td>1</td>\n",
       "      <td>2016-12-01 20:32:54</td>\n",
       "      <td>2016-12-01 20:52:17</td>\n",
       "      <td>1</td>\n",
       "      <td>5.00</td>\n",
       "      <td>1</td>\n",
       "      <td>N</td>\n",
       "      <td>13</td>\n",
       "      <td>143</td>\n",
       "      <td>1</td>\n",
       "      <td>18.5</td>\n",
       "      <td>0.5</td>\n",
       "      <td>0.5</td>\n",
       "      <td>3.95</td>\n",
       "      <td>0.0</td>\n",
       "      <td>0.3</td>\n",
       "      <td>23.75</td>\n",
       "      <td>19.383333</td>\n",
       "    </tr>\n",
       "    <tr>\n",
       "      <th>4</th>\n",
       "      <td>2</td>\n",
       "      <td>2016-12-12 19:25:14</td>\n",
       "      <td>2016-12-12 19:34:15</td>\n",
       "      <td>2</td>\n",
       "      <td>1.43</td>\n",
       "      <td>1</td>\n",
       "      <td>N</td>\n",
       "      <td>164</td>\n",
       "      <td>79</td>\n",
       "      <td>1</td>\n",
       "      <td>7.5</td>\n",
       "      <td>1.0</td>\n",
       "      <td>0.5</td>\n",
       "      <td>1.00</td>\n",
       "      <td>0.0</td>\n",
       "      <td>0.3</td>\n",
       "      <td>10.30</td>\n",
       "      <td>9.016667</td>\n",
       "    </tr>\n",
       "  </tbody>\n",
       "</table>\n",
       "</div>"
      ],
      "text/plain": [
       "   VendorID tpep_pickup_datetime tpep_dropoff_datetime  passenger_count  \\\n",
       "0         2  2016-12-19 20:13:04   2016-12-19 20:16:58                1   \n",
       "1         1  2016-12-27 19:28:48   2016-12-27 19:30:31                1   \n",
       "2         1  2016-12-17 00:57:37   2016-12-17 01:10:37                3   \n",
       "3         1  2016-12-01 20:32:54   2016-12-01 20:52:17                1   \n",
       "4         2  2016-12-12 19:25:14   2016-12-12 19:34:15                2   \n",
       "\n",
       "   trip_distance  RatecodeID store_and_fwd_flag  PULocationID  DOLocationID  \\\n",
       "0           0.87           1                  N           238           142   \n",
       "1           0.10           1                  N           231           144   \n",
       "2           2.30           1                  N            90           233   \n",
       "3           5.00           1                  N            13           143   \n",
       "4           1.43           1                  N           164            79   \n",
       "\n",
       "   payment_type  fare_amount  extra  mta_tax  tip_amount  tolls_amount  \\\n",
       "0             1          5.0    0.5      0.5        1.50           0.0   \n",
       "1             2          3.0    1.0      0.5        0.00           0.0   \n",
       "2             1         11.0    0.5      0.5        2.45           0.0   \n",
       "3             1         18.5    0.5      0.5        3.95           0.0   \n",
       "4             1          7.5    1.0      0.5        1.00           0.0   \n",
       "\n",
       "   improvement_surcharge  total_amount   duration  \n",
       "0                    0.3          7.80   3.900000  \n",
       "1                    0.3          4.80   1.716667  \n",
       "2                    0.3         14.75  13.000000  \n",
       "3                    0.3         23.75  19.383333  \n",
       "4                    0.3         10.30   9.016667  "
      ]
     },
     "execution_count": 30,
     "metadata": {},
     "output_type": "execute_result"
    }
   ],
   "source": [
    "sample10000.head()"
   ]
  },
  {
   "cell_type": "code",
   "execution_count": 31,
   "metadata": {},
   "outputs": [
    {
     "data": {
      "text/plain": [
       "10000"
      ]
     },
     "execution_count": 31,
     "metadata": {},
     "output_type": "execute_result"
    }
   ],
   "source": [
    "sample10000.payment_type.count()"
   ]
  },
  {
   "cell_type": "code",
   "execution_count": 35,
   "metadata": {},
   "outputs": [
    {
     "data": {
      "text/plain": [
       "array([1, 2, 3, 4])"
      ]
     },
     "execution_count": 35,
     "metadata": {},
     "output_type": "execute_result"
    }
   ],
   "source": [
    "sample10000.payment_type.unique()"
   ]
  },
  {
   "cell_type": "code",
   "execution_count": 38,
   "metadata": {},
   "outputs": [
    {
     "data": {
      "text/plain": [
       "count    10000.000000\n",
       "mean         1.367500\n",
       "std          0.499268\n",
       "min          1.000000\n",
       "25%          1.000000\n",
       "50%          1.000000\n",
       "75%          2.000000\n",
       "max          4.000000\n",
       "Name: payment_type, dtype: float64"
      ]
     },
     "execution_count": 38,
     "metadata": {},
     "output_type": "execute_result"
    }
   ],
   "source": [
    "sample10000.payment_type.describe()"
   ]
  },
  {
   "cell_type": "markdown",
   "metadata": {},
   "source": [
    "### Quiz Answers "
   ]
  },
  {
   "cell_type": "markdown",
   "metadata": {},
   "source": [
    "### To calculate how many passengers paid with cash "
   ]
  },
  {
   "cell_type": "code",
   "execution_count": 40,
   "metadata": {},
   "outputs": [
    {
     "data": {
      "text/plain": [
       "3543"
      ]
     },
     "execution_count": 40,
     "metadata": {},
     "output_type": "execute_result"
    }
   ],
   "source": [
    "len(sample10000[sample10000['payment_type']==2])"
   ]
  },
  {
   "cell_type": "code",
   "execution_count": 41,
   "metadata": {},
   "outputs": [
    {
     "name": "stdout",
     "output_type": "stream",
     "text": [
      "Help on function proportion_confint in module statsmodels.stats.proportion:\n",
      "\n",
      "proportion_confint(count, nobs, alpha=0.05, method='normal')\n",
      "    confidence interval for a binomial proportion\n",
      "    \n",
      "    Parameters\n",
      "    ----------\n",
      "    count : int or array\n",
      "        number of successes\n",
      "    nobs : int\n",
      "        total number of trials\n",
      "    alpha : float in (0, 1)\n",
      "        significance level, default 0.05\n",
      "    method : string in ['normal']\n",
      "        method to use for confidence interval,\n",
      "        currently available methods :\n",
      "    \n",
      "         - `normal` : asymptotic normal approximation\n",
      "         - `agresti_coull` : Agresti-Coull interval\n",
      "         - `beta` : Clopper-Pearson interval based on Beta distribution\n",
      "         - `wilson` : Wilson Score interval\n",
      "         - `jeffreys` : Jeffreys Bayesian Interval\n",
      "         - `binom_test` : experimental, inversion of binom_test\n",
      "    \n",
      "    Returns\n",
      "    -------\n",
      "    ci_low, ci_upp : float\n",
      "        lower and upper confidence level with coverage (approximately) 1-alpha.\n",
      "        Note: Beta has coverage\n",
      "        coverage is only 1-alpha on average for some other methods.)\n",
      "    \n",
      "    Notes\n",
      "    -----\n",
      "    Beta, the Clopper-Pearson interval has coverage at least 1-alpha, but is\n",
      "    in general conservative. Most of the other methods have average coverage\n",
      "    equal to 1-alpha, but will have smaller coverage in some cases.\n",
      "    \n",
      "    Method \"binom_test\" directly inverts the binomial test in scipy.stats.\n",
      "    which has discrete steps.\n",
      "    \n",
      "    TODO: binom_test intervals raise an exception in small samples if one\n",
      "       interval bound is close to zero or one.\n",
      "    \n",
      "    References\n",
      "    ----------\n",
      "    http://en.wikipedia.org/wiki/Binomial_proportion_confidence_interval\n",
      "    \n",
      "    Brown, Lawrence D.; Cai, T. Tony; DasGupta, Anirban (2001). \"Interval\n",
      "        Estimation for a Binomial Proportion\",\n",
      "        Statistical Science 16 (2): 101–133. doi:10.1214/ss/1009213286.\n",
      "        TODO: Is this the correct one ?\n",
      "\n"
     ]
    }
   ],
   "source": [
    "help(proportion_confint)"
   ]
  },
  {
   "cell_type": "markdown",
   "metadata": {},
   "source": [
    "#### Build a 99% confidence interval for the proportion of cash payers \n",
    "#### what is it lowest boundary"
   ]
  },
  {
   "cell_type": "code",
   "execution_count": 44,
   "metadata": {},
   "outputs": [
    {
     "name": "stdout",
     "output_type": "stream",
     "text": [
      "(0.34197979174644566, 0.36662020825355435)\n"
     ]
    }
   ],
   "source": [
    "count = len(sample10000[sample10000['payment_type']==2])\n",
    "nobs = len(sample10000)\n",
    "\n",
    "print(proportion_confint(count, nobs, alpha=0.01, method='normal'))"
   ]
  },
  {
   "cell_type": "markdown",
   "metadata": {},
   "source": [
    "### To estimate the average trip distance in miles."
   ]
  },
  {
   "cell_type": "code",
   "execution_count": 46,
   "metadata": {},
   "outputs": [
    {
     "data": {
      "text/plain": [
       "2.8812639999999998"
      ]
     },
     "execution_count": 46,
     "metadata": {},
     "output_type": "execute_result"
    }
   ],
   "source": [
    "sample10000['trip_distance'].mean()"
   ]
  },
  {
   "cell_type": "markdown",
   "metadata": {},
   "source": [
    "#### What is the standard deviation of the estimater"
   ]
  },
  {
   "cell_type": "code",
   "execution_count": 47,
   "metadata": {},
   "outputs": [
    {
     "data": {
      "text/plain": [
       "0.035839254113945292"
      ]
     },
     "execution_count": 47,
     "metadata": {},
     "output_type": "execute_result"
    }
   ],
   "source": [
    "sample10000['trip_distance'].std()/np.sqrt(len(sample10000))"
   ]
  },
  {
   "cell_type": "markdown",
   "metadata": {},
   "source": [
    "#### Calculate the 95% confidence interval for the mean trip distance. What is the upper boundary"
   ]
  },
  {
   "cell_type": "code",
   "execution_count": 52,
   "metadata": {},
   "outputs": [],
   "source": [
    "from statsmodels.stats.weightstats import DescrStatsW"
   ]
  },
  {
   "cell_type": "code",
   "execution_count": 53,
   "metadata": {},
   "outputs": [
    {
     "name": "stdout",
     "output_type": "stream",
     "text": [
      "Help on class DescrStatsW in module statsmodels.stats.weightstats:\n",
      "\n",
      "class DescrStatsW(builtins.object)\n",
      " |  descriptive statistics and tests with weights for case weights\n",
      " |  \n",
      " |  Assumes that the data is 1d or 2d with (nobs, nvars) observations in rows,\n",
      " |  variables in columns, and that the same weight applies to each column.\n",
      " |  \n",
      " |  If degrees of freedom correction is used, then weights should add up to the\n",
      " |  number of observations. ttest also assumes that the sum of weights\n",
      " |  corresponds to the sample size.\n",
      " |  \n",
      " |  This is essentially the same as replicating each observations by its\n",
      " |  weight, if the weights are integers, often called case or frequency weights.\n",
      " |  \n",
      " |  Parameters\n",
      " |  ----------\n",
      " |  data : array_like, 1-D or 2-D\n",
      " |      dataset\n",
      " |  weights : None or 1-D ndarray\n",
      " |      weights for each observation, with same length as zero axis of data\n",
      " |  ddof : int\n",
      " |      default ddof=0, degrees of freedom correction used for second moments,\n",
      " |      var, std, cov, corrcoef.\n",
      " |      However, statistical tests are independent of `ddof`, based on the\n",
      " |      standard formulas.\n",
      " |  \n",
      " |  Examples\n",
      " |  --------\n",
      " |  \n",
      " |  >>> import numpy as np\n",
      " |  >>> np.random.seed(0)\n",
      " |  >>> x1_2d = 1.0 + np.random.randn(20, 3)\n",
      " |  >>> w1 = np.random.randint(1, 4, 20)\n",
      " |  >>> d1 = DescrStatsW(x1_2d, weights=w1)\n",
      " |  >>> d1.mean\n",
      " |  array([ 1.42739844,  1.23174284,  1.083753  ])\n",
      " |  >>> d1.var\n",
      " |  array([ 0.94855633,  0.52074626,  1.12309325])\n",
      " |  >>> d1.std_mean\n",
      " |  array([ 0.14682676,  0.10878944,  0.15976497])\n",
      " |  \n",
      " |  >>> tstat, pval, df = d1.ttest_mean(0)\n",
      " |  >>> tstat; pval; df\n",
      " |  array([  9.72165021,  11.32226471,   6.78342055])\n",
      " |  array([  1.58414212e-12,   1.26536887e-14,   2.37623126e-08])\n",
      " |  44.0\n",
      " |  \n",
      " |  >>> tstat, pval, df = d1.ttest_mean([0, 1, 1])\n",
      " |  >>> tstat; pval; df\n",
      " |  array([ 9.72165021,  2.13019609,  0.52422632])\n",
      " |  array([  1.58414212e-12,   3.87842808e-02,   6.02752170e-01])\n",
      " |  44.0\n",
      " |  \n",
      " |  #if weiqhts are integers, then asrepeats can be used\n",
      " |  \n",
      " |  >>> x1r = d1.asrepeats()\n",
      " |  >>> x1r.shape\n",
      " |  ...\n",
      " |  >>> stats.ttest_1samp(x1r, [0, 1, 1])\n",
      " |  ...\n",
      " |  \n",
      " |  Methods defined here:\n",
      " |  \n",
      " |  __init__(self, data, weights=None, ddof=0)\n",
      " |      Initialize self.  See help(type(self)) for accurate signature.\n",
      " |  \n",
      " |  asrepeats(self)\n",
      " |      get array that has repeats given by floor(weights)\n",
      " |      \n",
      " |      observations with weight=0 are dropped\n",
      " |  \n",
      " |  corrcoef(self)\n",
      " |      weighted correlation with default ddof\n",
      " |      \n",
      " |      assumes variables in columns and observations in rows\n",
      " |  \n",
      " |  cov(self)\n",
      " |      weighted covariance of data if data is 2 dimensional\n",
      " |      \n",
      " |      assumes variables in columns and observations in rows\n",
      " |      uses default ddof\n",
      " |  \n",
      " |  demeaned(self)\n",
      " |      data with weighted mean subtracted\n",
      " |  \n",
      " |  get_compare(self, other, weights=None)\n",
      " |      return an instance of CompareMeans with self and other\n",
      " |      \n",
      " |      Parameters\n",
      " |      ----------\n",
      " |      other : array_like or instance of DescrStatsW\n",
      " |          If array_like then this creates an instance of DescrStatsW with\n",
      " |          the given weights.\n",
      " |      weights : None or array\n",
      " |          weights are only used if other is not an instance of DescrStatsW\n",
      " |      \n",
      " |      Returns\n",
      " |      -------\n",
      " |      cm : instance of CompareMeans\n",
      " |          the instance has self attached as d1 and other as d2.\n",
      " |      \n",
      " |      See Also\n",
      " |      --------\n",
      " |      CompareMeans\n",
      " |  \n",
      " |  mean(self)\n",
      " |      weighted mean of data\n",
      " |  \n",
      " |  nobs(self)\n",
      " |      alias for number of observations/cases, equal to sum of weights\n",
      " |  \n",
      " |  quantile(self, probs, return_pandas=True)\n",
      " |      Compute quantiles for a weighted sample.\n",
      " |      \n",
      " |      Parameters\n",
      " |      ----------\n",
      " |      probs : array-like\n",
      " |          A vector of probability points at which to calculate the\n",
      " |          quantiles.  Each element of `probs` should fall in [0, 1].\n",
      " |      return_pandas : bool\n",
      " |          If True, return value is a Pandas DataFrame or Series.\n",
      " |          Otherwise returns a ndarray.\n",
      " |      \n",
      " |      Returns\n",
      " |      -------\n",
      " |      quantiles : Series, DataFrame, or ndarray\n",
      " |          If `return_pandas` = True, returns one of the following:\n",
      " |            * data are 1d, `return_pandas` = True: a Series indexed by\n",
      " |              the probability points.\n",
      " |            * data are 2d, `return_pandas` = True: a DataFrame with\n",
      " |              the probability points as row index and the variables\n",
      " |              as column index.\n",
      " |      \n",
      " |          If `return_pandas` = False, returns an ndarray containing the\n",
      " |          same values as the Series/DataFrame.\n",
      " |      \n",
      " |      Notes\n",
      " |      -----\n",
      " |      To compute the quantiles, first, the weights are summed over\n",
      " |      exact ties yielding distinct data values y_1 < y_2 < ..., and\n",
      " |      corresponding weights w_1, w_2, ....  Let s_j denote the sum\n",
      " |      of the first j weights, and let W denote the sum of all the\n",
      " |      weights.  For a probability point p, if pW falls strictly\n",
      " |      between s_j and s_{j+1} then the estimated quantile is\n",
      " |      y_{j+1}.  If pW = s_j then the estimated quantile is (y_j +\n",
      " |      y_{j+1})/2.  If pW < p_1 then the estimated quantile is y_1.\n",
      " |      \n",
      " |      References\n",
      " |      ----------\n",
      " |      SAS documentation for weighted quantiles:\n",
      " |      \n",
      " |      https://support.sas.com/documentation/cdl/en/procstat/63104/HTML/default/viewer.htm#procstat_univariate_sect028.htm\n",
      " |  \n",
      " |  std(self)\n",
      " |      standard deviation with default degrees of freedom correction\n",
      " |  \n",
      " |  std_ddof(self, ddof=0)\n",
      " |      standard deviation of data with given ddof\n",
      " |      \n",
      " |      Parameters\n",
      " |      ----------\n",
      " |      ddof : int, float\n",
      " |          degrees of freedom correction, independent of attribute ddof\n",
      " |      \n",
      " |      Returns\n",
      " |      -------\n",
      " |      std : float, ndarray\n",
      " |          standard deviation with denominator ``sum_weights - ddof``\n",
      " |  \n",
      " |  std_mean(self)\n",
      " |      standard deviation of weighted mean\n",
      " |  \n",
      " |  sum(self)\n",
      " |      weighted sum of data\n",
      " |  \n",
      " |  sum_weights(self)\n",
      " |  \n",
      " |  sumsquares(self)\n",
      " |      weighted sum of squares of demeaned data\n",
      " |  \n",
      " |  tconfint_mean(self, alpha=0.05, alternative='two-sided')\n",
      " |      two-sided confidence interval for weighted mean of data\n",
      " |      \n",
      " |      If the data is 2d, then these are separate confidence intervals\n",
      " |      for each column.\n",
      " |      \n",
      " |      Parameters\n",
      " |      ----------\n",
      " |      alpha : float\n",
      " |          significance level for the confidence interval, coverage is\n",
      " |          ``1-alpha``\n",
      " |      alternative : string\n",
      " |          This specifies the alternative hypothesis for the test that\n",
      " |          corresponds to the confidence interval.\n",
      " |          The alternative hypothesis, H1, has to be one of the following\n",
      " |      \n",
      " |            'two-sided': H1: mean not equal to value (default)\n",
      " |            'larger' :   H1: mean larger than value\n",
      " |            'smaller' :  H1: mean smaller than value\n",
      " |      \n",
      " |      Returns\n",
      " |      -------\n",
      " |      lower, upper : floats or ndarrays\n",
      " |          lower and upper bound of confidence interval\n",
      " |      \n",
      " |      Notes\n",
      " |      -----\n",
      " |      In a previous version, statsmodels 0.4, alpha was the confidence\n",
      " |      level, e.g. 0.95\n",
      " |  \n",
      " |  ttest_mean(self, value=0, alternative='two-sided')\n",
      " |      ttest of Null hypothesis that mean is equal to value.\n",
      " |      \n",
      " |      The alternative hypothesis H1 is defined by the following\n",
      " |      'two-sided': H1: mean not equal to value\n",
      " |      'larger' :   H1: mean larger than value\n",
      " |      'smaller' :  H1: mean smaller than value\n",
      " |      \n",
      " |      Parameters\n",
      " |      ----------\n",
      " |      value : float or array\n",
      " |          the hypothesized value for the mean\n",
      " |      alternative : string\n",
      " |          The alternative hypothesis, H1, has to be one of the following\n",
      " |      \n",
      " |            'two-sided': H1: mean not equal to value (default)\n",
      " |            'larger' :   H1: mean larger than value\n",
      " |            'smaller' :  H1: mean smaller than value\n",
      " |      \n",
      " |      Returns\n",
      " |      -------\n",
      " |      tstat : float\n",
      " |          test statisic\n",
      " |      pvalue : float\n",
      " |          pvalue of the t-test\n",
      " |      df : int or float\n",
      " |  \n",
      " |  ttost_mean(self, low, upp)\n",
      " |      test of (non-)equivalence of one sample\n",
      " |      \n",
      " |      TOST: two one-sided t tests\n",
      " |      \n",
      " |      null hypothesis:  m < low or m > upp\n",
      " |      alternative hypothesis:  low < m < upp\n",
      " |      \n",
      " |      where m is the expected value of the sample (mean of the population).\n",
      " |      \n",
      " |      If the pvalue is smaller than a threshold, say 0.05, then we reject the\n",
      " |      hypothesis that the expected value of the sample (mean of the\n",
      " |      population) is outside of the interval given by thresholds low and upp.\n",
      " |      \n",
      " |      Parameters\n",
      " |      ----------\n",
      " |      low, upp : float\n",
      " |          equivalence interval low < mean < upp\n",
      " |      \n",
      " |      Returns\n",
      " |      -------\n",
      " |      pvalue : float\n",
      " |          pvalue of the non-equivalence test\n",
      " |      t1, pv1, df1 : tuple\n",
      " |          test statistic, pvalue and degrees of freedom for lower threshold\n",
      " |          test\n",
      " |      t2, pv2, df2 : tuple\n",
      " |          test statistic, pvalue and degrees of freedom for upper threshold\n",
      " |          test\n",
      " |  \n",
      " |  var(self)\n",
      " |      variance with default degrees of freedom correction\n",
      " |  \n",
      " |  var_ddof(self, ddof=0)\n",
      " |      variance of data given ddof\n",
      " |      \n",
      " |      Parameters\n",
      " |      ----------\n",
      " |      ddof : int, float\n",
      " |          degrees of freedom correction, independent of attribute ddof\n",
      " |      \n",
      " |      Returns\n",
      " |      -------\n",
      " |      var : float, ndarray\n",
      " |          variance with denominator ``sum_weights - ddof``\n",
      " |  \n",
      " |  zconfint_mean(self, alpha=0.05, alternative='two-sided')\n",
      " |      two-sided confidence interval for weighted mean of data\n",
      " |      \n",
      " |      Confidence interval is based on normal distribution.\n",
      " |      If the data is 2d, then these are separate confidence intervals\n",
      " |      for each column.\n",
      " |      \n",
      " |      Parameters\n",
      " |      ----------\n",
      " |      alpha : float\n",
      " |          significance level for the confidence interval, coverage is\n",
      " |          ``1-alpha``\n",
      " |      alternative : string\n",
      " |          This specifies the alternative hypothesis for the test that\n",
      " |          corresponds to the confidence interval.\n",
      " |          The alternative hypothesis, H1, has to be one of the following\n",
      " |      \n",
      " |            'two-sided': H1: mean not equal to value (default)\n",
      " |            'larger' :   H1: mean larger than value\n",
      " |            'smaller' :  H1: mean smaller than value\n",
      " |      \n",
      " |      Returns\n",
      " |      -------\n",
      " |      lower, upper : floats or ndarrays\n",
      " |          lower and upper bound of confidence interval\n",
      " |      \n",
      " |      Notes\n",
      " |      -----\n",
      " |      In a previous version, statsmodels 0.4, alpha was the confidence\n",
      " |      level, e.g. 0.95\n",
      " |  \n",
      " |  ztest_mean(self, value=0, alternative='two-sided')\n",
      " |      z-test of Null hypothesis that mean is equal to value.\n",
      " |      \n",
      " |      The alternative hypothesis H1 is defined by the following\n",
      " |      'two-sided': H1: mean not equal to value\n",
      " |      'larger' :   H1: mean larger than value\n",
      " |      'smaller' :  H1: mean smaller than value\n",
      " |      \n",
      " |      Parameters\n",
      " |      ----------\n",
      " |      value : float or array\n",
      " |          the hypothesized value for the mean\n",
      " |      alternative : string\n",
      " |          The alternative hypothesis, H1, has to be one of the following\n",
      " |      \n",
      " |            'two-sided': H1: mean not equal to value (default)\n",
      " |            'larger' :   H1: mean larger than value\n",
      " |            'smaller' :  H1: mean smaller than value\n",
      " |      \n",
      " |      Returns\n",
      " |      -------\n",
      " |      tstat : float\n",
      " |          test statisic\n",
      " |      pvalue : float\n",
      " |          pvalue of the t-test\n",
      " |      \n",
      " |      Notes\n",
      " |      -----\n",
      " |      This uses the same degrees of freedom correction as the t-test in the\n",
      " |      calculation of the standard error of the mean, i.e it uses\n",
      " |      `(sum_weights - 1)` instead of `sum_weights` in the denominator.\n",
      " |      See Examples below for the difference.\n",
      " |      \n",
      " |      Examples\n",
      " |      --------\n",
      " |      \n",
      " |      z-test on a proportion, with 20 observations, 15 of those are our event\n",
      " |      \n",
      " |      >>> import statsmodels.api as sm\n",
      " |      >>> x1 = [0, 1]\n",
      " |      >>> w1 = [5, 15]\n",
      " |      >>> d1 = sm.stats.DescrStatsW(x1, w1)\n",
      " |      >>> d1.ztest_mean(0.5)\n",
      " |      (2.5166114784235836, 0.011848940928347452)\n",
      " |      \n",
      " |      This differs from the proportions_ztest because of the degrees of\n",
      " |      freedom correction:\n",
      " |      >>> sm.stats.proportions_ztest(15, 20.0, value=0.5)\n",
      " |      (2.5819888974716112, 0.009823274507519247).\n",
      " |      \n",
      " |      We can replicate the results from ``proportions_ztest`` if we increase\n",
      " |      the weights to have artificially one more observation:\n",
      " |      \n",
      " |      >>> sm.stats.DescrStatsW(x1, np.array(w1)*21./20).ztest_mean(0.5)\n",
      " |      (2.5819888974716116, 0.0098232745075192366)\n",
      " |  \n",
      " |  ztost_mean(self, low, upp)\n",
      " |      test of (non-)equivalence of one sample, based on z-test\n",
      " |      \n",
      " |      TOST: two one-sided z-tests\n",
      " |      \n",
      " |      null hypothesis:  m < low or m > upp\n",
      " |      alternative hypothesis:  low < m < upp\n",
      " |      \n",
      " |      where m is the expected value of the sample (mean of the population).\n",
      " |      \n",
      " |      If the pvalue is smaller than a threshold, say 0.05, then we reject the\n",
      " |      hypothesis that the expected value of the sample (mean of the\n",
      " |      population) is outside of the interval given by thresholds low and upp.\n",
      " |      \n",
      " |      Parameters\n",
      " |      ----------\n",
      " |      low, upp : float\n",
      " |          equivalence interval low < mean < upp\n",
      " |      \n",
      " |      Returns\n",
      " |      -------\n",
      " |      pvalue : float\n",
      " |          pvalue of the non-equivalence test\n",
      " |      t1, pv1 : tuple\n",
      " |          test statistic and p-value for lower threshold test\n",
      " |      t2, pv2 : tuple\n",
      " |          test statistic and p-value for upper threshold test\n",
      " |  \n",
      " |  ----------------------------------------------------------------------\n",
      " |  Data descriptors defined here:\n",
      " |  \n",
      " |  __dict__\n",
      " |      dictionary for instance variables (if defined)\n",
      " |  \n",
      " |  __weakref__\n",
      " |      list of weak references to the object (if defined)\n",
      "\n"
     ]
    }
   ],
   "source": [
    "help(DescrStatsW)"
   ]
  },
  {
   "cell_type": "code",
   "execution_count": 56,
   "metadata": {},
   "outputs": [
    {
     "data": {
      "text/plain": [
       "(2.8110118487985973, 2.9515161512014023)"
      ]
     },
     "execution_count": 56,
     "metadata": {},
     "output_type": "execute_result"
    }
   ],
   "source": [
    "DescrStatsW(sample10000['trip_distance']).tconfint_mean()"
   ]
  },
  {
   "cell_type": "code",
   "execution_count": 58,
   "metadata": {},
   "outputs": [
    {
     "data": {
      "text/plain": [
       "(2.8110118487985973, 2.9515161512014023)"
      ]
     },
     "execution_count": 58,
     "metadata": {},
     "output_type": "execute_result"
    }
   ],
   "source": [
    "from statsmodels.stats.weightstats import _tconfint_generic \n",
    "_tconfint_generic(sample10000.trip_distance.mean(),\n",
    "                  sample10000.trip_distance.std(ddof=1) / np.sqrt(len(sample10000.trip_distance)),\n",
    "                  len(sample10000.trip_distance) - 1,\n",
    "                  0.05, 'two-sided')"
   ]
  },
  {
   "cell_type": "code",
   "execution_count": null,
   "metadata": {
    "collapsed": true
   },
   "outputs": [],
   "source": []
  }
 ],
 "metadata": {
  "kernelspec": {
   "display_name": "Python 3",
   "language": "python",
   "name": "python3"
  },
  "language_info": {
   "codemirror_mode": {
    "name": "ipython",
    "version": 3
   },
   "file_extension": ".py",
   "mimetype": "text/x-python",
   "name": "python",
   "nbconvert_exporter": "python",
   "pygments_lexer": "ipython3",
   "version": "3.6.2"
  }
 },
 "nbformat": 4,
 "nbformat_minor": 2
}
