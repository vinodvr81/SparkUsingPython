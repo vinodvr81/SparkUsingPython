{
 "cells": [
  {
   "cell_type": "code",
   "execution_count": 2,
   "metadata": {},
   "outputs": [],
   "source": [
    "from pyspark import SparkConf, SparkContext\n",
    "sc = SparkContext(conf=SparkConf().setAppName(\"myApp\").setMaster(\"local\"))"
   ]
  },
  {
   "cell_type": "code",
   "execution_count": 3,
   "metadata": {},
   "outputs": [
    {
     "name": "stdout",
     "output_type": "stream",
     "text": [
      "Writing wordtext.txt\n"
     ]
    }
   ],
   "source": [
    "%%writefile wordtext.txt\n",
    "Hello How are you\n",
    "How do you know me\n",
    "Hi How are you\n",
    "Ok I am fine\n",
    "What else is required from my side"
   ]
  },
  {
   "cell_type": "code",
   "execution_count": 5,
   "metadata": {},
   "outputs": [],
   "source": [
    "wordfile = sc.textFile(\"wordtext.txt\")"
   ]
  },
  {
   "cell_type": "code",
   "execution_count": 8,
   "metadata": {},
   "outputs": [
    {
     "name": "stdout",
     "output_type": "stream",
     "text": [
      "PythonRDD[6] at RDD at PythonRDD.scala:53\n"
     ]
    }
   ],
   "source": [
    "countword = wordfile.flatMap(lambda line:line.split(\" \")).map(lambda x:(x,1)).reduceByKey(lambda x,y:x+y)\n",
    "print(countword)"
   ]
  },
  {
   "cell_type": "code",
   "execution_count": 11,
   "metadata": {},
   "outputs": [
    {
     "name": "stdout",
     "output_type": "stream",
     "text": [
      "for key 'Hello' the corresponding value is '1':\n",
      "for key 'How' the corresponding value is '3':\n",
      "for key 'are' the corresponding value is '2':\n",
      "for key 'you' the corresponding value is '3':\n",
      "for key 'do' the corresponding value is '1':\n",
      "for key 'know' the corresponding value is '1':\n",
      "for key 'me' the corresponding value is '1':\n",
      "for key 'Hi' the corresponding value is '1':\n",
      "for key 'Ok' the corresponding value is '1':\n",
      "for key 'I' the corresponding value is '1':\n",
      "for key 'am' the corresponding value is '1':\n",
      "for key 'fine' the corresponding value is '1':\n",
      "for key 'What' the corresponding value is '1':\n",
      "for key 'else' the corresponding value is '1':\n",
      "for key 'is' the corresponding value is '1':\n",
      "for key 'required' the corresponding value is '1':\n",
      "for key 'from' the corresponding value is '1':\n",
      "for key 'my' the corresponding value is '1':\n",
      "for key 'side' the corresponding value is '1':\n"
     ]
    }
   ],
   "source": [
    "for key,value in countword.collect():\n",
    "    print(\"for key '{0}' the corresponding value is '{1}':\".format(key,value))"
   ]
  },
  {
   "cell_type": "code",
   "execution_count": null,
   "metadata": {},
   "outputs": [],
   "source": []
  }
 ],
 "metadata": {
  "kernelspec": {
   "display_name": "Python 3",
   "language": "python",
   "name": "python3"
  },
  "language_info": {
   "codemirror_mode": {
    "name": "ipython",
    "version": 3
   },
   "file_extension": ".py",
   "mimetype": "text/x-python",
   "name": "python",
   "nbconvert_exporter": "python",
   "pygments_lexer": "ipython3",
   "version": "3.7.1"
  }
 },
 "nbformat": 4,
 "nbformat_minor": 2
}
